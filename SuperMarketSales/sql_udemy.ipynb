{
 "cells": [
  {
   "cell_type": "markdown",
   "metadata": {
    "azdata_cell_guid": "f3042a3f-e8ae-409b-8dad-9148f0c96237"
   },
   "source": [
    "# UDEMY ANALYSIS"
   ]
  },
  {
   "cell_type": "code",
   "execution_count": 1,
   "metadata": {
    "azdata_cell_guid": "cee8f6d5-7c51-4c1f-abe9-1f00016cd462"
   },
   "outputs": [
    {
     "data": {
      "text/html": [
       "Commands completed successfully."
      ]
     },
     "metadata": {},
     "output_type": "display_data"
    },
    {
     "data": {
      "text/html": [
       "Total execution time: 00:00:00.028"
      ]
     },
     "metadata": {},
     "output_type": "display_data"
    }
   ],
   "source": [
    "USE model;\n",
    "GO"
   ]
  },
  {
   "cell_type": "code",
   "execution_count": 2,
   "metadata": {
    "azdata_cell_guid": "a9a35d22-26af-452b-b37b-046da81cc4a5"
   },
   "outputs": [
    {
     "data": {
      "text/html": [
       "(1 row affected)"
      ]
     },
     "metadata": {},
     "output_type": "display_data"
    },
    {
     "data": {
      "text/html": [
       "(10 rows affected)"
      ]
     },
     "metadata": {},
     "output_type": "display_data"
    },
    {
     "data": {
      "text/html": [
       "Total execution time: 00:00:00.094"
      ]
     },
     "metadata": {},
     "output_type": "display_data"
    },
    {
     "data": {
      "application/vnd.dataresource+json": {
       "data": [
        {
         "0": "1070968",
         "1": "Ultimate Investment Banking Course",
         "10": "2017-01-18T20:58:58Z",
         "11": "Business Finance",
         "2": "https://www.udemy.com/ultimate-investment-banking-course/",
         "3": "1",
         "4": "200",
         "5": "2147",
         "6": "23",
         "7": "51",
         "8": "All Levels",
         "9": "1.5 hours"
        },
        {
         "0": "1113822",
         "1": "Complete GST Course & Certification - Grow Your CA Practice",
         "10": "2017-03-09T16:34:20Z",
         "11": "Business Finance",
         "2": "https://www.udemy.com/goods-and-services-tax/",
         "3": "1",
         "4": "75",
         "5": "2792",
         "6": "923",
         "7": "274",
         "8": "All Levels",
         "9": "39 hours"
        },
        {
         "0": "1006314",
         "1": "Financial Modeling for Business Analysts and Consultants",
         "10": "2016-12-19T19:26:30Z",
         "11": "Business Finance",
         "2": "https://www.udemy.com/financial-modeling-for-business-analysts-and-consultants/",
         "3": "1",
         "4": "45",
         "5": "2174",
         "6": "74",
         "7": "51",
         "8": "Intermediate Level",
         "9": "2.5 hours"
        },
        {
         "0": "1210588",
         "1": "Beginner to Pro - Financial Analysis in Excel 2017",
         "10": "2017-05-30T20:07:24Z",
         "11": "Business Finance",
         "2": "https://www.udemy.com/complete-excel-finance-course-from-beginner-to-pro/",
         "3": "1",
         "4": "95",
         "5": "2451",
         "6": "11",
         "7": "36",
         "8": "All Levels",
         "9": "3 hours"
        },
        {
         "0": "1011058",
         "1": "How To Maximize Your Profits Trading Options",
         "10": "2016-12-13T14:57:18Z",
         "11": "Business Finance",
         "2": "https://www.udemy.com/how-to-maximize-your-profits-trading-options/",
         "3": "1",
         "4": "200",
         "5": "1276",
         "6": "45",
         "7": "26",
         "8": "Intermediate Level",
         "9": "2 hours"
        },
        {
         "0": "192870",
         "1": "Trading Penny Stocks: A Guide for All Levels In 2017",
         "10": "2014-05-02T15:13:30Z",
         "11": "Business Finance",
         "2": "https://www.udemy.com/trading-penny-stocks-a-guide-for-all-levels/",
         "3": "1",
         "4": "150",
         "5": "9221",
         "6": "138",
         "7": "25",
         "8": "All Levels",
         "9": "3 hours"
        },
        {
         "0": "739964",
         "1": "Investing And Trading For Beginners: Mastering Price Charts",
         "10": "2016-02-21T18:23:12Z",
         "11": "Business Finance",
         "2": "https://www.udemy.com/investing-and-trading-for-beginners-mastering-price-charts/",
         "3": "1",
         "4": "65",
         "5": "1540",
         "6": "178",
         "7": "26",
         "8": "Beginner Level",
         "9": "1 hour"
        },
        {
         "0": "403100",
         "1": "Trading Stock Chart Patterns For Immediate, Explosive Gains",
         "10": "2015-01-30T22:13:03Z",
         "11": "Business Finance",
         "2": "https://www.udemy.com/trading-chart-patterns-for-immediate-explosive-gains/",
         "3": "1",
         "4": "95",
         "5": "2917",
         "6": "148",
         "7": "23",
         "8": "All Levels",
         "9": "2.5 hours"
        },
        {
         "0": "476268",
         "1": "Options Trading 3 : Advanced Stock Profit and Success Method",
         "10": "2015-05-28T00:14:03Z",
         "11": "Business Finance",
         "2": "https://www.udemy.com/day-trading-stock-options-3/",
         "3": "1",
         "4": "195",
         "5": "5172",
         "6": "34",
         "7": "38",
         "8": "Expert Level",
         "9": "2.5 hours"
        },
        {
         "0": "1167710",
         "1": "The Only Investment Strategy You Need For Your Retirement",
         "10": "2017-04-18T18:13:32Z",
         "11": "Business Finance",
         "2": "https://www.udemy.com/the-only-investment-strategy-you-need-for-your-retirement/",
         "3": "1",
         "4": "200",
         "5": "827",
         "6": "14",
         "7": "15",
         "8": "All Levels",
         "9": "1 hour"
        }
       ],
       "schema": {
        "fields": [
         {
          "name": "course_id"
         },
         {
          "name": "course_title"
         },
         {
          "name": "url"
         },
         {
          "name": "is_paid"
         },
         {
          "name": "price"
         },
         {
          "name": "num_subscribers"
         },
         {
          "name": "num_reviews"
         },
         {
          "name": "num_lectures"
         },
         {
          "name": "level"
         },
         {
          "name": "content_duration"
         },
         {
          "name": "published_timestamp"
         },
         {
          "name": "subject"
         }
        ]
       }
      },
      "text/html": [
       "<table><tr><th>course_id</th><th>course_title</th><th>url</th><th>is_paid</th><th>price</th><th>num_subscribers</th><th>num_reviews</th><th>num_lectures</th><th>level</th><th>content_duration</th><th>published_timestamp</th><th>subject</th></tr><tr><td>1070968</td><td>Ultimate Investment Banking Course</td><td>https://www.udemy.com/ultimate-investment-banking-course/</td><td>1</td><td>200</td><td>2147</td><td>23</td><td>51</td><td>All Levels</td><td>1.5 hours</td><td>2017-01-18T20:58:58Z</td><td>Business Finance</td></tr><tr><td>1113822</td><td>Complete GST Course &amp; Certification - Grow Your CA Practice</td><td>https://www.udemy.com/goods-and-services-tax/</td><td>1</td><td>75</td><td>2792</td><td>923</td><td>274</td><td>All Levels</td><td>39 hours</td><td>2017-03-09T16:34:20Z</td><td>Business Finance</td></tr><tr><td>1006314</td><td>Financial Modeling for Business Analysts and Consultants</td><td>https://www.udemy.com/financial-modeling-for-business-analysts-and-consultants/</td><td>1</td><td>45</td><td>2174</td><td>74</td><td>51</td><td>Intermediate Level</td><td>2.5 hours</td><td>2016-12-19T19:26:30Z</td><td>Business Finance</td></tr><tr><td>1210588</td><td>Beginner to Pro - Financial Analysis in Excel 2017</td><td>https://www.udemy.com/complete-excel-finance-course-from-beginner-to-pro/</td><td>1</td><td>95</td><td>2451</td><td>11</td><td>36</td><td>All Levels</td><td>3 hours</td><td>2017-05-30T20:07:24Z</td><td>Business Finance</td></tr><tr><td>1011058</td><td>How To Maximize Your Profits Trading Options</td><td>https://www.udemy.com/how-to-maximize-your-profits-trading-options/</td><td>1</td><td>200</td><td>1276</td><td>45</td><td>26</td><td>Intermediate Level</td><td>2 hours</td><td>2016-12-13T14:57:18Z</td><td>Business Finance</td></tr><tr><td>192870</td><td>Trading Penny Stocks: A Guide for All Levels In 2017</td><td>https://www.udemy.com/trading-penny-stocks-a-guide-for-all-levels/</td><td>1</td><td>150</td><td>9221</td><td>138</td><td>25</td><td>All Levels</td><td>3 hours</td><td>2014-05-02T15:13:30Z</td><td>Business Finance</td></tr><tr><td>739964</td><td>Investing And Trading For Beginners: Mastering Price Charts</td><td>https://www.udemy.com/investing-and-trading-for-beginners-mastering-price-charts/</td><td>1</td><td>65</td><td>1540</td><td>178</td><td>26</td><td>Beginner Level</td><td>1 hour</td><td>2016-02-21T18:23:12Z</td><td>Business Finance</td></tr><tr><td>403100</td><td>Trading Stock Chart Patterns For Immediate, Explosive Gains</td><td>https://www.udemy.com/trading-chart-patterns-for-immediate-explosive-gains/</td><td>1</td><td>95</td><td>2917</td><td>148</td><td>23</td><td>All Levels</td><td>2.5 hours</td><td>2015-01-30T22:13:03Z</td><td>Business Finance</td></tr><tr><td>476268</td><td>Options Trading 3 : Advanced Stock Profit and Success Method</td><td>https://www.udemy.com/day-trading-stock-options-3/</td><td>1</td><td>195</td><td>5172</td><td>34</td><td>38</td><td>Expert Level</td><td>2.5 hours</td><td>2015-05-28T00:14:03Z</td><td>Business Finance</td></tr><tr><td>1167710</td><td>The Only Investment Strategy You Need For Your Retirement</td><td>https://www.udemy.com/the-only-investment-strategy-you-need-for-your-retirement/</td><td>1</td><td>200</td><td>827</td><td>14</td><td>15</td><td>All Levels</td><td>1 hour</td><td>2017-04-18T18:13:32Z</td><td>Business Finance</td></tr></table>"
      ]
     },
     "execution_count": 2,
     "metadata": {},
     "output_type": "execute_result"
    }
   ],
   "source": [
    "/* LETS CLEAN UP THE TABLE BY REMOVING ALL ROWS WITH NON NULL VALUES */\n",
    "DELETE FROM dbo.udemy_course WHERE is_paid IS NULL;\n",
    "SELECT TOP 10 * FROM dbo.udemy_course;"
   ]
  },
  {
   "cell_type": "code",
   "execution_count": 4,
   "metadata": {
    "azdata_cell_guid": "b71fa90b-3df1-4edc-b54a-f8245da28f34"
   },
   "outputs": [
    {
     "data": {
      "text/html": [
       "(10 rows affected)"
      ]
     },
     "metadata": {},
     "output_type": "display_data"
    },
    {
     "data": {
      "text/html": [
       "Total execution time: 00:00:00.023"
      ]
     },
     "metadata": {},
     "output_type": "display_data"
    },
    {
     "data": {
      "application/vnd.dataresource+json": {
       "data": [
        {
         "0": "Ultimate Investment Banking Course"
        },
        {
         "0": "Complete GST Course & Certification - Grow Your CA Practice"
        },
        {
         "0": "Financial Modeling for Business Analysts and Consultants"
        },
        {
         "0": "Beginner to Pro - Financial Analysis in Excel 2017"
        },
        {
         "0": "How To Maximize Your Profits Trading Options"
        },
        {
         "0": "Trading Penny Stocks: A Guide for All Levels In 2017"
        },
        {
         "0": "Investing And Trading For Beginners: Mastering Price Charts"
        },
        {
         "0": "Trading Stock Chart Patterns For Immediate, Explosive Gains"
        },
        {
         "0": "Options Trading 3 : Advanced Stock Profit and Success Method"
        },
        {
         "0": "The Only Investment Strategy You Need For Your Retirement"
        }
       ],
       "schema": {
        "fields": [
         {
          "name": "course_title"
         }
        ]
       }
      },
      "text/html": [
       "<table><tr><th>course_title</th></tr><tr><td>Ultimate Investment Banking Course</td></tr><tr><td>Complete GST Course &amp; Certification - Grow Your CA Practice</td></tr><tr><td>Financial Modeling for Business Analysts and Consultants</td></tr><tr><td>Beginner to Pro - Financial Analysis in Excel 2017</td></tr><tr><td>How To Maximize Your Profits Trading Options</td></tr><tr><td>Trading Penny Stocks: A Guide for All Levels In 2017</td></tr><tr><td>Investing And Trading For Beginners: Mastering Price Charts</td></tr><tr><td>Trading Stock Chart Patterns For Immediate, Explosive Gains</td></tr><tr><td>Options Trading 3 : Advanced Stock Profit and Success Method</td></tr><tr><td>The Only Investment Strategy You Need For Your Retirement</td></tr></table>"
      ]
     },
     "execution_count": 4,
     "metadata": {},
     "output_type": "execute_result"
    }
   ],
   "source": [
    "/* LETS GET THE UNIQUE COURSE TITLES */\n",
    "SELECT DISTINCT TOP 10 course_title FROM dbo.udemy_course;"
   ]
  },
  {
   "cell_type": "code",
   "execution_count": 17,
   "metadata": {
    "azdata_cell_guid": "795f51fe-fcb3-4af8-8f0b-69db9416fc29"
   },
   "outputs": [
    {
     "data": {
      "text/html": [
       "(20 rows affected)"
      ]
     },
     "metadata": {},
     "output_type": "display_data"
    },
    {
     "data": {
      "text/html": [
       "Total execution time: 00:00:00.048"
      ]
     },
     "metadata": {},
     "output_type": "display_data"
    },
    {
     "data": {
      "application/vnd.dataresource+json": {
       "data": [
        {
         "0": "Corporation Tax Returns UK",
         "1": "100"
        },
        {
         "0": "Forex Trading : Power Of Moving Averages",
         "1": "100"
        },
        {
         "0": "Instant Harmonica - play Leonard Cohen's Hallelujah now!",
         "1": "100"
        },
        {
         "0": "CPA 10 COMPLETO",
         "1": "101"
        },
        {
         "0": "Innovators and innovation: Travel through time!",
         "1": "101"
        },
        {
         "0": "Master Angular 2 - The No Nonsense Course",
         "1": "102"
        },
        {
         "0": "Corporate Finance and Alternative Investment for CFA L1",
         "1": "103"
        },
        {
         "0": "Gibson's Learn & Master Guitar",
         "1": "103"
        },
        {
         "0": "Learn 10 Scottish Tunes Piano Easy Level",
         "1": "103"
        },
        {
         "0": "The Binary Institute -  Binary Options Trading Course",
         "1": "103"
        },
        {
         "0": "The Piano Chord Ladder | Learn to Play Thousands of Songs",
         "1": "103"
        },
        {
         "0": "WordPress Development - Themes and Plugins Complete Guide",
         "1": "103"
        },
        {
         "0": "カードゲームでカンタンに理解する！経済とお金のキホン",
         "1": "103"
        },
        {
         "0": "How To Trade RSI Pullback Strategy: Entry To Exit (Forex)",
         "1": "104"
        },
        {
         "0": "Learn Lion (Saroo) Soundtrack On The Piano By Ear",
         "1": "104"
        },
        {
         "0": "Simple Options Trading System",
         "1": "104"
        },
        {
         "0": "Stock Trading: Insider Tips For Determining Market Direction",
         "1": "104"
        },
        {
         "0": "AutoCAD Course - Learn Online AutoCAD in Urdu Hindi",
         "1": "105"
        },
        {
         "0": "Drawing With Confidence",
         "1": "105"
        },
        {
         "0": "Essentials Of Swing Trading Stocks",
         "1": "105"
        }
       ],
       "schema": {
        "fields": [
         {
          "name": "course_title"
         },
         {
          "name": "(No column name)"
         }
        ]
       }
      },
      "text/html": [
       "<table><tr><th>course_title</th><th>(No column name)</th></tr><tr><td>Corporation Tax Returns UK</td><td>100</td></tr><tr><td>Forex Trading : Power Of Moving Averages</td><td>100</td></tr><tr><td>Instant Harmonica - play Leonard Cohen's Hallelujah now!</td><td>100</td></tr><tr><td>CPA 10 COMPLETO</td><td>101</td></tr><tr><td>Innovators and innovation: Travel through time!</td><td>101</td></tr><tr><td>Master Angular 2 - The No Nonsense Course</td><td>102</td></tr><tr><td>Corporate Finance and Alternative Investment for CFA L1</td><td>103</td></tr><tr><td>Gibson's Learn &amp; Master Guitar</td><td>103</td></tr><tr><td>Learn 10 Scottish Tunes Piano Easy Level</td><td>103</td></tr><tr><td>The Binary Institute -  Binary Options Trading Course</td><td>103</td></tr><tr><td>The Piano Chord Ladder | Learn to Play Thousands of Songs</td><td>103</td></tr><tr><td>WordPress Development - Themes and Plugins Complete Guide</td><td>103</td></tr><tr><td>カードゲームでカンタンに理解する！経済とお金のキホン</td><td>103</td></tr><tr><td>How To Trade RSI Pullback Strategy: Entry To Exit (Forex)</td><td>104</td></tr><tr><td>Learn Lion (Saroo) Soundtrack On The Piano By Ear</td><td>104</td></tr><tr><td>Simple Options Trading System</td><td>104</td></tr><tr><td>Stock Trading: Insider Tips For Determining Market Direction</td><td>104</td></tr><tr><td>AutoCAD Course - Learn Online AutoCAD in Urdu Hindi</td><td>105</td></tr><tr><td>Drawing With Confidence</td><td>105</td></tr><tr><td>Essentials Of Swing Trading Stocks</td><td>105</td></tr></table>"
      ]
     },
     "execution_count": 17,
     "metadata": {},
     "output_type": "execute_result"
    }
   ],
   "source": [
    "SELECT TOP 20 course_title, MIN(num_subscribers) FROM dbo.udemy_course\n",
    "WHERE num_subscribers >=100\n",
    "GROUP BY course_title\n",
    "ORDER BY 2 ASC;"
   ]
  },
  {
   "cell_type": "code",
   "execution_count": 9,
   "metadata": {
    "azdata_cell_guid": "1f19fc19-dc85-430c-b39e-59c3d21a094e"
   },
   "outputs": [
    {
     "data": {
      "text/html": [
       "(20 rows affected)"
      ]
     },
     "metadata": {},
     "output_type": "display_data"
    },
    {
     "data": {
      "text/html": [
       "Total execution time: 00:00:00.022"
      ]
     },
     "metadata": {},
     "output_type": "display_data"
    },
    {
     "data": {
      "application/vnd.dataresource+json": {
       "data": [
        {
         "0": "Learn HTML5 Programming From Scratch",
         "1": "268923"
        },
        {
         "0": "Coding for Entrepreneurs Basic",
         "1": "161029"
        },
        {
         "0": "The Web Developer Bootcamp",
         "1": "121584"
        },
        {
         "0": "Build Your First Website in 1 Week with HTML5 and CSS3",
         "1": "120291"
        },
        {
         "0": "The Complete Web Developer Course 2.0",
         "1": "114512"
        },
        {
         "0": "Free Beginner Electric Guitar Lessons",
         "1": "101154"
        },
        {
         "0": "Web Design for Web Developers: Build Beautiful Websites!",
         "1": "98867"
        },
        {
         "0": "Learn Javascript & JQuery From Scratch",
         "1": "84897"
        },
        {
         "0": "Practical PHP: Master the Basics and Code Dynamic Websites",
         "1": "83737"
        },
        {
         "0": "JavaScript: Understanding the Weird Parts",
         "1": "79612"
        },
        {
         "0": "Pianoforall - Incredible New Way To Learn Piano & Keyboard",
         "1": "75499"
        },
        {
         "0": "Angular 4 (formerly Angular 2) - The Complete Guide",
         "1": "73783"
        },
        {
         "0": "Beginner Photoshop to HTML5 and CSS3",
         "1": "73110"
        },
        {
         "0": "Web Development By Doing: HTML / CSS From Scratch",
         "1": "72932"
        },
        {
         "0": "HTML and CSS for Beginners - Build a Website & Launch ONLINE",
         "1": "70773"
        },
        {
         "0": "Become a Web Developer from Scratch",
         "1": "69186"
        },
        {
         "0": "Bitcoin or How I Learned to Stop Worrying and Love Crypto",
         "1": "65576"
        },
        {
         "0": "Quickstart AngularJS",
         "1": "64128"
        },
        {
         "0": "Learn Responsive Web Development from Scratch",
         "1": "59639"
        },
        {
         "0": "Learn and Understand AngularJS",
         "1": "59361"
        }
       ],
       "schema": {
        "fields": [
         {
          "name": "course_title"
         },
         {
          "name": "Top 20 subscribers"
         }
        ]
       }
      },
      "text/html": [
       "<table><tr><th>course_title</th><th>Top 20 subscribers</th></tr><tr><td>Learn HTML5 Programming From Scratch</td><td>268923</td></tr><tr><td>Coding for Entrepreneurs Basic</td><td>161029</td></tr><tr><td>The Web Developer Bootcamp</td><td>121584</td></tr><tr><td>Build Your First Website in 1 Week with HTML5 and CSS3</td><td>120291</td></tr><tr><td>The Complete Web Developer Course 2.0</td><td>114512</td></tr><tr><td>Free Beginner Electric Guitar Lessons</td><td>101154</td></tr><tr><td>Web Design for Web Developers: Build Beautiful Websites!</td><td>98867</td></tr><tr><td>Learn Javascript &amp; JQuery From Scratch</td><td>84897</td></tr><tr><td>Practical PHP: Master the Basics and Code Dynamic Websites</td><td>83737</td></tr><tr><td>JavaScript: Understanding the Weird Parts</td><td>79612</td></tr><tr><td>Pianoforall - Incredible New Way To Learn Piano &amp; Keyboard</td><td>75499</td></tr><tr><td>Angular 4 (formerly Angular 2) - The Complete Guide</td><td>73783</td></tr><tr><td>Beginner Photoshop to HTML5 and CSS3</td><td>73110</td></tr><tr><td>Web Development By Doing: HTML / CSS From Scratch</td><td>72932</td></tr><tr><td>HTML and CSS for Beginners - Build a Website &amp; Launch ONLINE</td><td>70773</td></tr><tr><td>Become a Web Developer from Scratch</td><td>69186</td></tr><tr><td>Bitcoin or How I Learned to Stop Worrying and Love Crypto</td><td>65576</td></tr><tr><td>Quickstart AngularJS</td><td>64128</td></tr><tr><td>Learn Responsive Web Development from Scratch</td><td>59639</td></tr><tr><td>Learn and Understand AngularJS</td><td>59361</td></tr></table>"
      ]
     },
     "execution_count": 9,
     "metadata": {},
     "output_type": "execute_result"
    }
   ],
   "source": [
    "/* lets get the maximum subscribers and mininum subscribers and which courses they do */\n",
    "SELECT TOP 20 course_title, MAX(num_subscribers) AS 'Top 20 subscribers' FROM dbo.udemy_course \n",
    "GROUP BY course_title\n",
    "ORDER BY 2 DESC;"
   ]
  },
  {
   "cell_type": "code",
   "execution_count": 13,
   "metadata": {
    "azdata_cell_guid": "f0d44eb5-3adf-4f1f-9720-a9739822ab46",
    "tags": []
   },
   "outputs": [
    {
     "data": {
      "text/html": [
       "(70 rows affected)"
      ]
     },
     "metadata": {},
     "output_type": "display_data"
    },
    {
     "data": {
      "text/html": [
       "Total execution time: 00:00:00.018"
      ]
     },
     "metadata": {},
     "output_type": "display_data"
    },
    {
     "data": {
      "application/vnd.dataresource+json": {
       "data": [
        {
         "0": "Essentials of money value: Get a financial Life !",
         "1": "0"
        },
        {
         "0": "Introduction to Forex Trading Business For Beginners",
         "1": "0"
        },
        {
         "0": "Cryptocurrency (BTC & ETH) Investment & Trading Course 2017",
         "1": "0"
        },
        {
         "0": "Introduction to Project Management for Finance and Acct'g",
         "1": "0"
        },
        {
         "0": "Best Practices in Corporate Budgeting",
         "1": "0"
        },
        {
         "0": "Financial Statement Auditing Cycles",
         "1": "0"
        },
        {
         "0": "Case studies on credit appraisal for bankers",
         "1": "0"
        },
        {
         "0": "Building a Balanced Scorecard",
         "1": "0"
        },
        {
         "0": "Options Trading Foundation: Your journey to competency...",
         "1": "0"
        },
        {
         "0": "Forex how traders beat the markest with little experience",
         "1": "0"
        },
        {
         "0": "CFA Level 2- Quantitative Methods",
         "1": "0"
        },
        {
         "0": "Foundations of Investing",
         "1": "0"
        },
        {
         "0": "Evolution and Features of ETFs",
         "1": "0"
        },
        {
         "0": "Kickstarter success in 5 easy steps",
         "1": "0"
        },
        {
         "0": "Understanding Financial Statements",
         "1": "0"
        },
        {
         "0": "Planning and Executing a Financial Statement Audit",
         "1": "0"
        },
        {
         "0": "How to achieve personal transformation",
         "1": "0"
        },
        {
         "0": "Basic Bookkeeping",
         "1": "0"
        },
        {
         "0": "Credit concepts and checklist for bankers, credit analyst",
         "1": "0"
        },
        {
         "0": "Practical Film Financing: Finding & Pitching Investors",
         "1": "0"
        },
        {
         "0": "Ratio Analysis for Financial Statements",
         "1": "0"
        },
        {
         "0": "60 Minutes to Fundamental Accounting Skills",
         "1": "0"
        },
        {
         "0": "Essentials of money value: Get a financial Life !",
         "1": "0"
        },
        {
         "0": "Introduction to Forex Trading Business For Beginners",
         "1": "0"
        },
        {
         "0": "Teeter-Totter Accounting",
         "1": "0"
        },
        {
         "0": "beginning accounting",
         "1": "0"
        },
        {
         "0": "Stop Creditors from Harassing you and Avoid Bankruptcy",
         "1": "0"
        },
        {
         "0": "Learn to trade using technical analysis",
         "1": "0"
        },
        {
         "0": "How to Invest Using ETFs from Former Wall Street Trader",
         "1": "0"
        },
        {
         "0": "Workshop on Banking Credit Analysis Process",
         "1": "0"
        },
        {
         "0": "The Cuckoo Strategy to get European Funding",
         "1": "0"
        },
        {
         "0": "Accounting - The 6 most important rules you must learn",
         "1": "0"
        },
        {
         "0": "Mutual Funds for Investors in Retirement Accounts",
         "1": "0"
        },
        {
         "0": "Free Ways to Create Passive Income Online",
         "1": "0"
        },
        {
         "0": "Understanding Financial Statements",
         "1": "0"
        },
        {
         "0": "The Cash Flow Statement - An Introduction",
         "1": "0"
        },
        {
         "0": "Corporate Ethics",
         "1": "0"
        },
        {
         "0": "CFA Level 2- Quantitative Methods",
         "1": "0"
        },
        {
         "0": "Core Financial Statement Concepts",
         "1": "0"
        },
        {
         "0": "Understand Core Finance Principles in 60 Minutes",
         "1": "0"
        },
        {
         "0": "MicroStation - Células",
         "1": "0"
        },
        {
         "0": "Photoshop - Creación de Efectos 2",
         "1": "0"
        },
        {
         "0": "Como Criar Logos de Sucesso - Start Designer",
         "1": "0"
        },
        {
         "0": "Super Textos con Photoshop",
         "1": "0"
        },
        {
         "0": "Photoshop - Aprende a Transformar Imágenes",
         "1": "0"
        },
        {
         "0": "Iníciate en Microstation",
         "1": "0"
        },
        {
         "0": "Adobe Photoshop pentru Social Media",
         "1": "0"
        },
        {
         "0": "Photoshop - Creación de Efectos",
         "1": "0"
        },
        {
         "0": "Letras en Adobe Illustrator",
         "1": "0"
        },
        {
         "0": "Photoshop: Creando elemental de aire",
         "1": "0"
        },
        {
         "0": "MicroStation - Células",
         "1": "0"
        },
        {
         "0": "Create Beautiful Image Maps for Your Website",
         "1": "0"
        },
        {
         "0": "Easy Coloring Book Design",
         "1": "0"
        },
        {
         "0": "Make Patterns in Illustrator",
         "1": "0"
        },
        {
         "0": "Learn to create Text fire effect in Adobe Photoshop ",
         "1": "0"
        },
        {
         "0": "Professional Business Logo Design Using Free Online Tools",
         "1": "0"
        },
        {
         "0": "Beginners Guide to Kindle Ebook Covers Design With Fireworks",
         "1": "0"
        },
        {
         "0": "The Complete Adobe Spark Course",
         "1": "0"
        },
        {
         "0": "The Art of Logo Design : Everything You Need to Know",
         "1": "0"
        },
        {
         "0": "Curso de Didgeridoo nivel principiante",
         "1": "0"
        },
        {
         "0": "Beginners Guitar Course - 'Try it and love it method\"",
         "1": "0"
        },
        {
         "0": "Coaching Course: Rhythm Instruction for Music Educators P1",
         "1": "0"
        },
        {
         "0": "Learn Pirates of the Caribbean by Ear on the Piano",
         "1": "0"
        },
        {
         "0": "Coaching Course: Rhythm Instruction for Music Educators P2",
         "1": "0"
        },
        {
         "0": "4 Week Rhythm Mastery",
         "1": "0"
        },
        {
         "0": "Tune that Sour Note on Your Piano",
         "1": "0"
        },
        {
         "0": "Learn Vikings Soundtracks on the Piano by Ear",
         "1": "0"
        },
        {
         "0": "Learn to Play Piano Like a Pro - Easy Piano Course 1",
         "1": "0"
        },
        {
         "0": "ABRSM Grade III Piano Class - Handel Sonatina in G 2017-2018",
         "1": "0"
        },
        {
         "0": "Learn to Play Sweet Child of Mine",
         "1": "0"
        }
       ],
       "schema": {
        "fields": [
         {
          "name": "course_title"
         },
         {
          "name": "num_subscribers"
         }
        ]
       }
      },
      "text/html": [
       "<table><tr><th>course_title</th><th>num_subscribers</th></tr><tr><td>Essentials of money value: Get a financial Life !</td><td>0</td></tr><tr><td>Introduction to Forex Trading Business For Beginners</td><td>0</td></tr><tr><td>Cryptocurrency (BTC &amp; ETH) Investment &amp; Trading Course 2017</td><td>0</td></tr><tr><td>Introduction to Project Management for Finance and Acct'g</td><td>0</td></tr><tr><td>Best Practices in Corporate Budgeting</td><td>0</td></tr><tr><td>Financial Statement Auditing Cycles</td><td>0</td></tr><tr><td>Case studies on credit appraisal for bankers</td><td>0</td></tr><tr><td>Building a Balanced Scorecard</td><td>0</td></tr><tr><td>Options Trading Foundation: Your journey to competency...</td><td>0</td></tr><tr><td>Forex how traders beat the markest with little experience</td><td>0</td></tr><tr><td>CFA Level 2- Quantitative Methods</td><td>0</td></tr><tr><td>Foundations of Investing</td><td>0</td></tr><tr><td>Evolution and Features of ETFs</td><td>0</td></tr><tr><td>Kickstarter success in 5 easy steps</td><td>0</td></tr><tr><td>Understanding Financial Statements</td><td>0</td></tr><tr><td>Planning and Executing a Financial Statement Audit</td><td>0</td></tr><tr><td>How to achieve personal transformation</td><td>0</td></tr><tr><td>Basic Bookkeeping</td><td>0</td></tr><tr><td>Credit concepts and checklist for bankers, credit analyst</td><td>0</td></tr><tr><td>Practical Film Financing: Finding &amp; Pitching Investors</td><td>0</td></tr><tr><td>Ratio Analysis for Financial Statements</td><td>0</td></tr><tr><td>60 Minutes to Fundamental Accounting Skills</td><td>0</td></tr><tr><td>Essentials of money value: Get a financial Life !</td><td>0</td></tr><tr><td>Introduction to Forex Trading Business For Beginners</td><td>0</td></tr><tr><td>Teeter-Totter Accounting</td><td>0</td></tr><tr><td>beginning accounting</td><td>0</td></tr><tr><td>Stop Creditors from Harassing you and Avoid Bankruptcy</td><td>0</td></tr><tr><td>Learn to trade using technical analysis</td><td>0</td></tr><tr><td>How to Invest Using ETFs from Former Wall Street Trader</td><td>0</td></tr><tr><td>Workshop on Banking Credit Analysis Process</td><td>0</td></tr><tr><td>The Cuckoo Strategy to get European Funding</td><td>0</td></tr><tr><td>Accounting - The 6 most important rules you must learn</td><td>0</td></tr><tr><td>Mutual Funds for Investors in Retirement Accounts</td><td>0</td></tr><tr><td>Free Ways to Create Passive Income Online</td><td>0</td></tr><tr><td>Understanding Financial Statements</td><td>0</td></tr><tr><td>The Cash Flow Statement - An Introduction</td><td>0</td></tr><tr><td>Corporate Ethics</td><td>0</td></tr><tr><td>CFA Level 2- Quantitative Methods</td><td>0</td></tr><tr><td>Core Financial Statement Concepts</td><td>0</td></tr><tr><td>Understand Core Finance Principles in 60 Minutes</td><td>0</td></tr><tr><td>MicroStation - Células</td><td>0</td></tr><tr><td>Photoshop - Creación de Efectos 2</td><td>0</td></tr><tr><td>Como Criar Logos de Sucesso - Start Designer</td><td>0</td></tr><tr><td>Super Textos con Photoshop</td><td>0</td></tr><tr><td>Photoshop - Aprende a Transformar Imágenes</td><td>0</td></tr><tr><td>Iníciate en Microstation</td><td>0</td></tr><tr><td>Adobe Photoshop pentru Social Media</td><td>0</td></tr><tr><td>Photoshop - Creación de Efectos</td><td>0</td></tr><tr><td>Letras en Adobe Illustrator</td><td>0</td></tr><tr><td>Photoshop: Creando elemental de aire</td><td>0</td></tr><tr><td>MicroStation - Células</td><td>0</td></tr><tr><td>Create Beautiful Image Maps for Your Website</td><td>0</td></tr><tr><td>Easy Coloring Book Design</td><td>0</td></tr><tr><td>Make Patterns in Illustrator</td><td>0</td></tr><tr><td>Learn to create Text fire effect in Adobe Photoshop </td><td>0</td></tr><tr><td>Professional Business Logo Design Using Free Online Tools</td><td>0</td></tr><tr><td>Beginners Guide to Kindle Ebook Covers Design With Fireworks</td><td>0</td></tr><tr><td>The Complete Adobe Spark Course</td><td>0</td></tr><tr><td>The Art of Logo Design : Everything You Need to Know</td><td>0</td></tr><tr><td>Curso de Didgeridoo nivel principiante</td><td>0</td></tr><tr><td>Beginners Guitar Course - 'Try it and love it method&quot;</td><td>0</td></tr><tr><td>Coaching Course: Rhythm Instruction for Music Educators P1</td><td>0</td></tr><tr><td>Learn Pirates of the Caribbean by Ear on the Piano</td><td>0</td></tr><tr><td>Coaching Course: Rhythm Instruction for Music Educators P2</td><td>0</td></tr><tr><td>4 Week Rhythm Mastery</td><td>0</td></tr><tr><td>Tune that Sour Note on Your Piano</td><td>0</td></tr><tr><td>Learn Vikings Soundtracks on the Piano by Ear</td><td>0</td></tr><tr><td>Learn to Play Piano Like a Pro - Easy Piano Course 1</td><td>0</td></tr><tr><td>ABRSM Grade III Piano Class - Handel Sonatina in G 2017-2018</td><td>0</td></tr><tr><td>Learn to Play Sweet Child of Mine</td><td>0</td></tr></table>"
      ]
     },
     "execution_count": 13,
     "metadata": {},
     "output_type": "execute_result"
    }
   ],
   "source": [
    "/* get course titles with 0 subscribers */\n",
    "SELECT course_title, num_subscribers FROM dbo.udemy_course\n",
    "WHERE num_subscribers = 0;"
   ]
  },
  {
   "cell_type": "code",
   "execution_count": 23,
   "metadata": {
    "azdata_cell_guid": "ada4f163-d41f-4e79-8057-c17241ab9271"
   },
   "outputs": [
    {
     "data": {
      "text/html": [
       "(1 row affected)"
      ]
     },
     "metadata": {},
     "output_type": "display_data"
    },
    {
     "data": {
      "text/html": [
       "Total execution time: 00:00:00.033"
      ]
     },
     "metadata": {},
     "output_type": "display_data"
    },
    {
     "data": {
      "application/vnd.dataresource+json": {
       "data": [
        {
         "0": "3372",
         "1": "310"
        }
       ],
       "schema": {
        "fields": [
         {
          "name": "users"
         },
         {
          "name": "not_paid"
         }
        ]
       }
      },
      "text/html": [
       "<table><tr><th>users</th><th>not_paid</th></tr><tr><td>3372</td><td>310</td></tr></table>"
      ]
     },
     "execution_count": 23,
     "metadata": {
      "azdata_chartOptions": {
       "columnsAsLabels": true,
       "dataDirection": "horizontal",
       "labelFirstColumn": false,
       "legendPosition": "top",
       "type": "bar"
      }
     },
     "output_type": "execute_result"
    }
   ],
   "source": [
    "/* LETS ANALYSE THE TOTAL AMOUNT OF USERS THAT PAID */\n",
    "SELECT (SELECT COUNT(is_paid) FROM dbo.udemy_course WHERE is_paid = 1) \n",
    "AS users, (SELECT COUNT(is_paid) FROM dbo.udemy_course WHERE is_paid = 0 ) AS 'not_paid'\n"
   ]
  },
  {
   "cell_type": "code",
   "execution_count": 28,
   "metadata": {
    "azdata_cell_guid": "af9b0c83-eb56-4ba5-bd5a-8cd565c98391"
   },
   "outputs": [
    {
     "data": {
      "text/html": [
       "Warning: Null value is eliminated by an aggregate or other SET operation."
      ]
     },
     "metadata": {},
     "output_type": "display_data"
    },
    {
     "data": {
      "text/html": [
       "(1 row affected)"
      ]
     },
     "metadata": {},
     "output_type": "display_data"
    },
    {
     "data": {
      "text/html": [
       "Total execution time: 00:00:00.018"
      ]
     },
     "metadata": {},
     "output_type": "display_data"
    },
    {
     "data": {
      "application/vnd.dataresource+json": {
       "data": [
        {
         "0": "200",
         "1": "20"
        }
       ],
       "schema": {
        "fields": [
         {
          "name": "max_price"
         },
         {
          "name": "min_price"
         }
        ]
       }
      },
      "text/html": [
       "<table><tr><th>max_price</th><th>min_price</th></tr><tr><td>200</td><td>20</td></tr></table>"
      ]
     },
     "execution_count": 28,
     "metadata": {},
     "output_type": "execute_result"
    }
   ],
   "source": [
    "SELECT \n",
    "(SELECT MAX(price) FROM DBO.udemy_course) AS max_price,\n",
    "(SELECT MIN(price) FROM DBO.udemy_course) AS min_price"
   ]
  },
  {
   "cell_type": "code",
   "execution_count": null,
   "metadata": {
    "azdata_cell_guid": "f5e35789-daab-4623-bc60-f6649700eaa7"
   },
   "outputs": [],
   "source": []
  },
  {
   "cell_type": "markdown",
   "metadata": {
    "azdata_cell_guid": "abdd157d-19e0-43b7-a6af-54409e048c38"
   },
   "source": []
  }
 ],
 "metadata": {
  "kernelspec": {
   "display_name": "Python 3",
   "language": "python",
   "name": "python3"
  },
  "language_info": {
   "codemirror_mode": {
    "name": "ipython",
    "version": 3
   },
   "file_extension": ".py",
   "mimetype": "text/x-python",
   "name": "python",
   "nbconvert_exporter": "python",
   "pygments_lexer": "ipython3",
   "version": "3.7.4"
  }
 },
 "nbformat": 4,
 "nbformat_minor": 2
}
